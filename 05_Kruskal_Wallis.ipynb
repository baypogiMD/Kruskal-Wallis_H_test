{
  "nbformat": 4,
  "nbformat_minor": 0,
  "metadata": {
    "colab": {
      "name": "05 - Kruskal-Wallis.ipynb",
      "provenance": [],
      "collapsed_sections": []
    },
    "kernelspec": {
      "name": "python3",
      "display_name": "Python 3"
    }
  },
  "cells": [
    {
      "cell_type": "markdown",
      "metadata": {
        "id": "D3sXRk3Ov5Gi"
      },
      "source": [
        "# Kruskal-Wallis H test\n",
        "* Use when you are comparing more than 2 groups that do not have a normal distribution.\n",
        "* This is the nonparametric counter part of one-way ANOVA.\n",
        "* $H_0$: The median of the groups are equal OR all the sample distributions are equal.\n",
        "* $H_1$: The median of one or more groups are not equal OR one or more sample distributions are not equal.\n",
        "* $\\alpha = 0.05$"
      ]
    },
    {
      "cell_type": "code",
      "metadata": {
        "id": "x0EfXc4fvmYA"
      },
      "source": [
        "# Import the necessary libraries\n",
        "\n",
        "import pandas as pd\n",
        "import matplotlib.pyplot as plt\n",
        "import numpy as np\n",
        "import seaborn as sns"
      ],
      "execution_count": null,
      "outputs": []
    },
    {
      "cell_type": "code",
      "metadata": {
        "colab": {
          "base_uri": "https://localhost:8080/",
          "height": 204
        },
        "id": "F6GMi1OR-Pzi",
        "outputId": "be37a1f5-60c7-4152-e0b6-3aece63e4caf"
      },
      "source": [
        "# Load your dataset\n",
        "\n",
        "framingham = pd.read_csv('Framingham.csv')\n",
        "framingham.head()"
      ],
      "execution_count": null,
      "outputs": [
        {
          "output_type": "execute_result",
          "data": {
            "text/html": [
              "<div>\n",
              "<style scoped>\n",
              "    .dataframe tbody tr th:only-of-type {\n",
              "        vertical-align: middle;\n",
              "    }\n",
              "\n",
              "    .dataframe tbody tr th {\n",
              "        vertical-align: top;\n",
              "    }\n",
              "\n",
              "    .dataframe thead th {\n",
              "        text-align: right;\n",
              "    }\n",
              "</style>\n",
              "<table border=\"1\" class=\"dataframe\">\n",
              "  <thead>\n",
              "    <tr style=\"text-align: right;\">\n",
              "      <th></th>\n",
              "      <th>Patient_ID</th>\n",
              "      <th>Age_Years</th>\n",
              "      <th>Sex</th>\n",
              "      <th>Systolic</th>\n",
              "      <th>Diastolic</th>\n",
              "      <th>CHD</th>\n",
              "      <th>FollowUp_Months</th>\n",
              "      <th>BMI</th>\n",
              "      <th>month</th>\n",
              "      <th>scl</th>\n",
              "    </tr>\n",
              "  </thead>\n",
              "  <tbody>\n",
              "    <tr>\n",
              "      <th>0</th>\n",
              "      <td>457</td>\n",
              "      <td>62</td>\n",
              "      <td>1</td>\n",
              "      <td>138</td>\n",
              "      <td>76</td>\n",
              "      <td>0</td>\n",
              "      <td>7905</td>\n",
              "      <td>16.200001</td>\n",
              "      <td>2</td>\n",
              "      <td>182</td>\n",
              "    </tr>\n",
              "    <tr>\n",
              "      <th>1</th>\n",
              "      <td>95</td>\n",
              "      <td>34</td>\n",
              "      <td>0</td>\n",
              "      <td>124</td>\n",
              "      <td>80</td>\n",
              "      <td>0</td>\n",
              "      <td>11627</td>\n",
              "      <td>16.400000</td>\n",
              "      <td>1</td>\n",
              "      <td>203</td>\n",
              "    </tr>\n",
              "    <tr>\n",
              "      <th>2</th>\n",
              "      <td>2478</td>\n",
              "      <td>41</td>\n",
              "      <td>0</td>\n",
              "      <td>102</td>\n",
              "      <td>74</td>\n",
              "      <td>0</td>\n",
              "      <td>11688</td>\n",
              "      <td>16.500000</td>\n",
              "      <td>6</td>\n",
              "      <td>271</td>\n",
              "    </tr>\n",
              "    <tr>\n",
              "      <th>3</th>\n",
              "      <td>4513</td>\n",
              "      <td>36</td>\n",
              "      <td>0</td>\n",
              "      <td>148</td>\n",
              "      <td>104</td>\n",
              "      <td>0</td>\n",
              "      <td>8024</td>\n",
              "      <td>16.700001</td>\n",
              "      <td>12</td>\n",
              "      <td>192</td>\n",
              "    </tr>\n",
              "    <tr>\n",
              "      <th>4</th>\n",
              "      <td>1283</td>\n",
              "      <td>40</td>\n",
              "      <td>0</td>\n",
              "      <td>110</td>\n",
              "      <td>78</td>\n",
              "      <td>0</td>\n",
              "      <td>11688</td>\n",
              "      <td>16.700001</td>\n",
              "      <td>3</td>\n",
              "      <td>242</td>\n",
              "    </tr>\n",
              "  </tbody>\n",
              "</table>\n",
              "</div>"
            ],
            "text/plain": [
              "   Patient_ID  Age_Years  Sex  Systolic  ...  FollowUp_Months        BMI  month  scl\n",
              "0         457         62    1       138  ...             7905  16.200001      2  182\n",
              "1          95         34    0       124  ...            11627  16.400000      1  203\n",
              "2        2478         41    0       102  ...            11688  16.500000      6  271\n",
              "3        4513         36    0       148  ...             8024  16.700001     12  192\n",
              "4        1283         40    0       110  ...            11688  16.700001      3  242\n",
              "\n",
              "[5 rows x 10 columns]"
            ]
          },
          "metadata": {
            "tags": []
          },
          "execution_count": 2
        }
      ]
    },
    {
      "cell_type": "markdown",
      "metadata": {
        "id": "k3etCVh3-Xtj"
      },
      "source": [
        "## Peform summary statistics"
      ]
    },
    {
      "cell_type": "code",
      "metadata": {
        "colab": {
          "base_uri": "https://localhost:8080/",
          "height": 297
        },
        "id": "wqpiAbrK-WTm",
        "outputId": "65623239-7a7b-47ed-d89f-86b613f86973"
      },
      "source": [
        "# Convert observations in Patient_ID as string\n",
        "framingham['Patient_ID'] = framingham['Patient_ID'].apply(str)\n",
        "\n",
        "# Convert observations in Sex as categorical/string\n",
        "framingham['Sex'] = framingham['Sex'].apply(str)\n",
        "\n",
        "# Convert observations in CHD as categorical/string\n",
        "framingham['CHD'] = framingham['CHD'].apply(str)\n",
        "\n",
        "# Rename/simplify column name\n",
        "framingham = framingham.rename(columns = {'Age_Years':'Age', 'FollowUp_Months':'FollowUp','scl':'Cholesterol'})\n",
        "\n",
        "framingham.describe()"
      ],
      "execution_count": null,
      "outputs": [
        {
          "output_type": "execute_result",
          "data": {
            "text/html": [
              "<div>\n",
              "<style scoped>\n",
              "    .dataframe tbody tr th:only-of-type {\n",
              "        vertical-align: middle;\n",
              "    }\n",
              "\n",
              "    .dataframe tbody tr th {\n",
              "        vertical-align: top;\n",
              "    }\n",
              "\n",
              "    .dataframe thead th {\n",
              "        text-align: right;\n",
              "    }\n",
              "</style>\n",
              "<table border=\"1\" class=\"dataframe\">\n",
              "  <thead>\n",
              "    <tr style=\"text-align: right;\">\n",
              "      <th></th>\n",
              "      <th>Age</th>\n",
              "      <th>Systolic</th>\n",
              "      <th>Diastolic</th>\n",
              "      <th>FollowUp</th>\n",
              "      <th>BMI</th>\n",
              "      <th>month</th>\n",
              "      <th>Cholesterol</th>\n",
              "    </tr>\n",
              "  </thead>\n",
              "  <tbody>\n",
              "    <tr>\n",
              "      <th>count</th>\n",
              "      <td>4699.000000</td>\n",
              "      <td>4699.000000</td>\n",
              "      <td>4699.000000</td>\n",
              "      <td>4699.000000</td>\n",
              "      <td>4699.000000</td>\n",
              "      <td>4699.000000</td>\n",
              "      <td>4699.000000</td>\n",
              "    </tr>\n",
              "    <tr>\n",
              "      <th>mean</th>\n",
              "      <td>46.041073</td>\n",
              "      <td>132.766546</td>\n",
              "      <td>82.541605</td>\n",
              "      <td>8061.313258</td>\n",
              "      <td>25.655203</td>\n",
              "      <td>6.369227</td>\n",
              "      <td>229.087253</td>\n",
              "    </tr>\n",
              "    <tr>\n",
              "      <th>std</th>\n",
              "      <td>8.504363</td>\n",
              "      <td>22.801104</td>\n",
              "      <td>12.737322</td>\n",
              "      <td>3595.310856</td>\n",
              "      <td>4.125778</td>\n",
              "      <td>3.683821</td>\n",
              "      <td>45.381863</td>\n",
              "    </tr>\n",
              "    <tr>\n",
              "      <th>min</th>\n",
              "      <td>30.000000</td>\n",
              "      <td>80.000000</td>\n",
              "      <td>40.000000</td>\n",
              "      <td>18.000000</td>\n",
              "      <td>16.200001</td>\n",
              "      <td>1.000000</td>\n",
              "      <td>115.000000</td>\n",
              "    </tr>\n",
              "    <tr>\n",
              "      <th>25%</th>\n",
              "      <td>39.000000</td>\n",
              "      <td>116.000000</td>\n",
              "      <td>74.000000</td>\n",
              "      <td>5136.500000</td>\n",
              "      <td>22.900000</td>\n",
              "      <td>3.000000</td>\n",
              "      <td>198.000000</td>\n",
              "    </tr>\n",
              "    <tr>\n",
              "      <th>50%</th>\n",
              "      <td>45.000000</td>\n",
              "      <td>130.000000</td>\n",
              "      <td>80.000000</td>\n",
              "      <td>8908.000000</td>\n",
              "      <td>25.200001</td>\n",
              "      <td>6.000000</td>\n",
              "      <td>225.000000</td>\n",
              "    </tr>\n",
              "    <tr>\n",
              "      <th>75%</th>\n",
              "      <td>53.000000</td>\n",
              "      <td>144.000000</td>\n",
              "      <td>90.000000</td>\n",
              "      <td>11648.000000</td>\n",
              "      <td>28.000000</td>\n",
              "      <td>10.000000</td>\n",
              "      <td>255.000000</td>\n",
              "    </tr>\n",
              "    <tr>\n",
              "      <th>max</th>\n",
              "      <td>68.000000</td>\n",
              "      <td>270.000000</td>\n",
              "      <td>148.000000</td>\n",
              "      <td>11688.000000</td>\n",
              "      <td>57.599998</td>\n",
              "      <td>12.000000</td>\n",
              "      <td>568.000000</td>\n",
              "    </tr>\n",
              "  </tbody>\n",
              "</table>\n",
              "</div>"
            ],
            "text/plain": [
              "               Age     Systolic  ...        month  Cholesterol\n",
              "count  4699.000000  4699.000000  ...  4699.000000  4699.000000\n",
              "mean     46.041073   132.766546  ...     6.369227   229.087253\n",
              "std       8.504363    22.801104  ...     3.683821    45.381863\n",
              "min      30.000000    80.000000  ...     1.000000   115.000000\n",
              "25%      39.000000   116.000000  ...     3.000000   198.000000\n",
              "50%      45.000000   130.000000  ...     6.000000   225.000000\n",
              "75%      53.000000   144.000000  ...    10.000000   255.000000\n",
              "max      68.000000   270.000000  ...    12.000000   568.000000\n",
              "\n",
              "[8 rows x 7 columns]"
            ]
          },
          "metadata": {
            "tags": []
          },
          "execution_count": 3
        }
      ]
    },
    {
      "cell_type": "markdown",
      "metadata": {
        "id": "uc9-ZvgT__7h"
      },
      "source": [
        "## Create groups base on the BMI\n",
        "* Underweight: less than 18.5\n",
        "* Normal: 18.5 to 24.9\n",
        "* Overweight: 25 to 29.9\n",
        "* Obese class I: 30 to 34.9\n",
        "* Obese class II: 35 to 39.9\n",
        "* Obese class III: more than or equal to 40"
      ]
    },
    {
      "cell_type": "code",
      "metadata": {
        "id": "ZKi-VJHLBUfs"
      },
      "source": [
        "# Subset dataframe\n",
        "Underweight = framingham[framingham['BMI'] < 18.5]\n",
        "Normal = framingham[(framingham['BMI'] >= 18.5) & (framingham['BMI'] < 25)]\n",
        "Overweight = framingham[(framingham['BMI'] >= 25) & (framingham['BMI'] < 30)]\n",
        "Obese1 = framingham[(framingham['BMI'] >= 30) & (framingham['BMI'] < 35)]\n",
        "Obese2 = framingham[(framingham['BMI'] >= 35) & (framingham['BMI'] < 40)]\n",
        "Obese3 = framingham[framingham['BMI'] >= 40]\n",
        "\n",
        "# Subset array\n",
        "Underweight = Underweight['Cholesterol']\n",
        "Normal = Normal['Cholesterol']\n",
        "Overweight = Overweight['Cholesterol']\n",
        "Obese1 = Obese1['Cholesterol']\n",
        "Obese2 = Obese2['Cholesterol']\n",
        "Obese3 = Obese3['Cholesterol']\n",
        "\n",
        "# Create the dataframe\n",
        "BMIgroup = [['Underweight', Underweight],\n",
        "            ['Normal', Normal],\n",
        "            ['Overweight', Overweight],\n",
        "            ['Obese I', Obese1],\n",
        "            ['Obese II', Obese2],\n",
        "            ['Obese III', Obese3]]\n",
        "BMIgroup = pd.DataFrame(BMIgroup, columns = ['BMI', 'Cholesterol'])"
      ],
      "execution_count": null,
      "outputs": []
    },
    {
      "cell_type": "markdown",
      "metadata": {
        "id": "BH110HD5F184"
      },
      "source": [
        "## Visualize your data"
      ]
    },
    {
      "cell_type": "code",
      "metadata": {
        "colab": {
          "base_uri": "https://localhost:8080/",
          "height": 985
        },
        "id": "ho82L_uhVEBp",
        "outputId": "d339bc95-a9b4-4c71-c508-340ebac9bd39"
      },
      "source": [
        "# Create dataset which contains BMI\n",
        "OverallChole = framingham['Cholesterol']\n",
        "\n",
        "# Create figure and title\n",
        "fig, axs = plt.subplots(7, 1, figsize=(6, 15), sharex=True)\n",
        "fig.suptitle('Distribution of cholesterol level base on BMI')\n",
        "\n",
        "# Overall Cholesterol\n",
        "sns.histplot(OverallChole, ax=axs[0], color='brown', kde=True)\n",
        "axs[0].set_title('Overall Cholesterol')\n",
        "\n",
        "# Underweight\n",
        "sns.histplot(Underweight, ax=axs[1], kde=True, color='blue')\n",
        "axs[1].set_title('Underweight cholesterol')\n",
        "\n",
        "# Normal\n",
        "sns.histplot(Normal, ax=axs[2], kde=True, color='orange')\n",
        "axs[2].set_title('Normal weight cholesterol')\n",
        "\n",
        "# Overweight\n",
        "sns.histplot(Overweight, ax=axs[3], kde=True, color='green')\n",
        "axs[3].set_title('Overweight cholesterol')\n",
        "\n",
        "# Obese I\n",
        "sns.histplot(Obese1, ax=axs[4], kde=True, color='red')\n",
        "axs[4].set_title('Obese class I cholesterol')\n",
        "\n",
        "# Obese II\n",
        "sns.histplot(Obese2, ax=axs[5], kde=True, color='purple')\n",
        "axs[5].set_title('Obese class II cholesterol')\n",
        "\n",
        "# Obese III\n",
        "sns.histplot(Obese3, ax=axs[6], kde=True, color='pink')\n",
        "axs[6].set_title('Obese class III cholesterol')\n",
        "\n",
        "plt.show()"
      ],
      "execution_count": null,
      "outputs": [
        {
          "output_type": "display_data",
          "data": {
            "image/png": "[encoded data removed]",
            "text/plain": [
              "<Figure size 432x1080 with 7 Axes>"
            ]
          },
          "metadata": {
            "tags": [],
            "needs_background": "light"
          }
        }
      ]
    },
    {
      "cell_type": "markdown",
      "metadata": {
        "id": "clYi9XFiXsc2"
      },
      "source": [
        "## Perform the Kruskal-Wallis H test"
      ]
    },
    {
      "cell_type": "code",
      "metadata": {
        "colab": {
          "base_uri": "https://localhost:8080/"
        },
        "id": "PzwbgafOUTqv",
        "outputId": "98357d2f-75c1-460a-9588-943694812f45"
      },
      "source": [
        "from scipy.stats import kruskal\n",
        "\n",
        "KWH, pval = kruskal(Underweight, Normal, Overweight, Obese1, Obese2, Obese3)\n",
        "KWH, pval"
      ],
      "execution_count": null,
      "outputs": [
        {
          "output_type": "execute_result",
          "data": {
            "text/plain": [
              "(132.2381171595583, 7.971247056819843e-27)"
            ]
          },
          "metadata": {
            "tags": []
          },
          "execution_count": 6
        }
      ]
    },
    {
      "cell_type": "markdown",
      "metadata": {
        "id": "FeDvyR54PtA_"
      },
      "source": [
        "## Interpret the result\n",
        "The computed p-value is 7.97e-27 which is smaller than the level of significance 0.05. We will reject the null hypothesis. We may conclude that the sample distribution of the groups are not equal."
      ]
    }
  ]
}
